{
 "cells": [
  {
   "cell_type": "code",
   "execution_count": 1,
   "metadata": {},
   "outputs": [],
   "source": [
    "import torch \n",
    "from torch.utils import data \n",
    "from torch.autograd import Variable \n",
    "import torchvision\n",
    "from torchvision.datasets import mnist\n",
    "import matplotlib.pyplot as plt\n",
    "from datascience import Table\n",
    "%matplotlib inline\n",
    "import matplotlib.pyplot as plt\n",
    "import numpy as np\n",
    "plt.style.use('fivethirtyeight')\n",
    "import json\n",
    "import pandas as pd\n",
    "import torch.nn as nn\n",
    "import torch.nn.functional as F\n",
    "from torch.autograd import Variable\n",
    "from torch.utils.data.dataset import Dataset\n",
    "from torch.utils.data import DataLoader"
   ]
  },
  {
   "cell_type": "code",
   "execution_count": 46,
   "metadata": {},
   "outputs": [],
   "source": [
    "class Net(nn.Module):\n",
    "    def __init__(self):\n",
    "        super(Net,self).__init__()\n",
    "        self.fc1 = nn.Linear(6,24) \n",
    "        self.fc2 = nn.Linear(24,12)\n",
    "        self.fc3 = nn.Linear(12,4)\n",
    "    def forward(self, x):\n",
    "        x = F.leaky_relu(self.fc1(x))\n",
    "        x = F.leaky_relu(self.fc2(x))\n",
    "        x = self.fc3(x)\n",
    "        return x\n",
    "mnet=Net()\n",
    "mnet.load_state_dict(torch.load('DNNmodel.pth'))"
   ]
  },
  {
   "cell_type": "code",
   "execution_count": 54,
   "metadata": {},
   "outputs": [
    {
     "data": {
      "text/html": [
       "<table border=\"1\" class=\"dataframe\">\n",
       "    <thead>\n",
       "        <tr>\n",
       "            <th>time</th> <th>volume</th> <th>min_price</th> <th>max_price</th> <th>avg_price</th> <th>median_price</th> <th>warframe</th> <th>available </th> <th>ducats</th> <th>release</th> <th>hot</th> <th>date</th> <th>weekend</th>\n",
       "        </tr>\n",
       "    </thead>\n",
       "    <tbody>\n",
       "        <tr>\n",
       "            <td>2019/1/19</td> <td>50    </td> <td>260      </td> <td>300      </td> <td>280      </td> <td>281         </td> <td>Frost   </td> <td>1         </td> <td>175   </td> <td>0      </td> <td>2   </td> <td>19  </td> <td>1      </td>\n",
       "        </tr>\n",
       "        <tr>\n",
       "            <td>2019/1/20</td> <td>53    </td> <td>256      </td> <td>300      </td> <td>278      </td> <td>280         </td> <td>Frost   </td> <td>1         </td> <td>175   </td> <td>0      </td> <td>2   </td> <td>20  </td> <td>1      </td>\n",
       "        </tr>\n",
       "        <tr>\n",
       "            <td>2019/1/21</td> <td>27    </td> <td>272      </td> <td>294      </td> <td>283      </td> <td>286.5       </td> <td>Frost   </td> <td>1         </td> <td>175   </td> <td>0      </td> <td>2   </td> <td>21  </td> <td>0      </td>\n",
       "        </tr>\n",
       "        <tr>\n",
       "            <td>2019/1/22</td> <td>48    </td> <td>140      </td> <td>300      </td> <td>220      </td> <td>255         </td> <td>Frost   </td> <td>1         </td> <td>175   </td> <td>0      </td> <td>2   </td> <td>22  </td> <td>0      </td>\n",
       "        </tr>\n",
       "        <tr>\n",
       "            <td>2019/1/23</td> <td>91    </td> <td>120      </td> <td>220      </td> <td>170      </td> <td>160         </td> <td>Frost   </td> <td>2         </td> <td>175   </td> <td>1      </td> <td>2   </td> <td>23  </td> <td>0      </td>\n",
       "        </tr>\n",
       "        <tr>\n",
       "            <td>2019/1/24</td> <td>52    </td> <td>129      </td> <td>200      </td> <td>164.5    </td> <td>170         </td> <td>Frost   </td> <td>2         </td> <td>175   </td> <td>1      </td> <td>2   </td> <td>24  </td> <td>0      </td>\n",
       "        </tr>\n",
       "        <tr>\n",
       "            <td>2019/1/25</td> <td>29    </td> <td>148      </td> <td>200      </td> <td>174      </td> <td>174         </td> <td>Frost   </td> <td>2         </td> <td>175   </td> <td>1      </td> <td>2   </td> <td>25  </td> <td>0      </td>\n",
       "        </tr>\n",
       "        <tr>\n",
       "            <td>2019/1/26</td> <td>22    </td> <td>145      </td> <td>176      </td> <td>160.5    </td> <td>160         </td> <td>Frost   </td> <td>2         </td> <td>175   </td> <td>1      </td> <td>2   </td> <td>26  </td> <td>1      </td>\n",
       "        </tr>\n",
       "        <tr>\n",
       "            <td>2019/1/27</td> <td>29    </td> <td>150      </td> <td>200      </td> <td>175      </td> <td>179         </td> <td>Frost   </td> <td>2         </td> <td>175   </td> <td>1      </td> <td>2   </td> <td>27  </td> <td>1      </td>\n",
       "        </tr>\n",
       "        <tr>\n",
       "            <td>2019/1/28</td> <td>36    </td> <td>150      </td> <td>220      </td> <td>185      </td> <td>176         </td> <td>Frost   </td> <td>2         </td> <td>175   </td> <td>1      </td> <td>2   </td> <td>28  </td> <td>0      </td>\n",
       "        </tr>\n",
       "    </tbody>\n",
       "</table>\n",
       "<p>... (79 rows omitted)</p>"
      ],
      "text/plain": [
       "time      | volume | min_price | max_price | avg_price | median_price | warframe | available  | ducats | release | hot  | date | weekend\n",
       "2019/1/19 | 50     | 260       | 300       | 280       | 281          | Frost    | 1          | 175    | 0       | 2    | 19   | 1\n",
       "2019/1/20 | 53     | 256       | 300       | 278       | 280          | Frost    | 1          | 175    | 0       | 2    | 20   | 1\n",
       "2019/1/21 | 27     | 272       | 294       | 283       | 286.5        | Frost    | 1          | 175    | 0       | 2    | 21   | 0\n",
       "2019/1/22 | 48     | 140       | 300       | 220       | 255          | Frost    | 1          | 175    | 0       | 2    | 22   | 0\n",
       "2019/1/23 | 91     | 120       | 220       | 170       | 160          | Frost    | 2          | 175    | 1       | 2    | 23   | 0\n",
       "2019/1/24 | 52     | 129       | 200       | 164.5     | 170          | Frost    | 2          | 175    | 1       | 2    | 24   | 0\n",
       "2019/1/25 | 29     | 148       | 200       | 174       | 174          | Frost    | 2          | 175    | 1       | 2    | 25   | 0\n",
       "2019/1/26 | 22     | 145       | 176       | 160.5     | 160          | Frost    | 2          | 175    | 1       | 2    | 26   | 1\n",
       "2019/1/27 | 29     | 150       | 200       | 175       | 179          | Frost    | 2          | 175    | 1       | 2    | 27   | 1\n",
       "2019/1/28 | 36     | 150       | 220       | 185       | 176          | Frost    | 2          | 175    | 1       | 2    | 28   | 0\n",
       "... (79 rows omitted)"
      ]
     },
     "execution_count": 54,
     "metadata": {},
     "output_type": "execute_result"
    }
   ],
   "source": [
    "testing = pd.read_csv('Frost_data.csv')\n",
    "Test=Table.from_df(testing)\n",
    "Test"
   ]
  },
  {
   "cell_type": "code",
   "execution_count": 55,
   "metadata": {},
   "outputs": [
    {
     "data": {
      "text/plain": [
       "[[1, 1.75, 0, 2, 1.9, 1.0],\n",
       " [1, 1.75, 0, 2, 2.0, 1.0],\n",
       " [1, 1.75, 0, 2, 2.1, 0.0],\n",
       " [1, 1.75, 0, 2, 2.2, 0.0],\n",
       " [2, 1.75, 1, 2, 2.3, 0.0]]"
      ]
     },
     "execution_count": 55,
     "metadata": {},
     "output_type": "execute_result"
    }
   ],
   "source": [
    "features=[]\n",
    "for i in range(89):\n",
    "    feature1=[]\n",
    "    feature1.append(Test.row(i)[7])\n",
    "    feature1.append(Test.row(i)[8]/100)\n",
    "    feature1.append(Test.row(i)[9])\n",
    "    feature1.append(Test.row(i)[10])\n",
    "    feature1.append(Test.row(i)[11]/10)\n",
    "    feature1.append(Test.row(i)[12])\n",
    "    features.append(feature1)\n",
    "features[:5]"
   ]
  },
  {
   "cell_type": "code",
   "execution_count": 56,
   "metadata": {},
   "outputs": [
    {
     "data": {
      "text/plain": [
       "129"
      ]
     },
     "execution_count": 56,
     "metadata": {},
     "output_type": "execute_result"
    }
   ],
   "source": [
    "labels=[]\n",
    "for i in range(89):\n",
    "    label=[]\n",
    "    label.append(Test.row(i)[1])\n",
    "    label.append(Test.row(i)[2])\n",
    "    label.append(Test.row(i)[3])\n",
    "    label.append(Test.row(i)[4])\n",
    "    labels.append(label)\n",
    "labels[5][1]"
   ]
  },
  {
   "cell_type": "code",
   "execution_count": 57,
   "metadata": {},
   "outputs": [
    {
     "data": {
      "text/plain": [
       "array([339.49957275, 339.81152344, 340.99557495, 341.30718994,\n",
       "       231.21572876, 230.07504272, 228.93435669, 224.8089447 ,\n",
       "       223.66828918, 225.5123291 , 224.37162781, 223.23095703,\n",
       "       222.09028625, 160.29963684, 157.84924316, 156.75541687,\n",
       "       157.01820374, 155.9243927 , 154.83059692, 153.73681641])"
      ]
     },
     "execution_count": 57,
     "metadata": {},
     "output_type": "execute_result"
    }
   ],
   "source": [
    "prediction=np.array([])\n",
    "real=np.array([])\n",
    "j=2\n",
    "for i in range(89):\n",
    "    k=i\n",
    "    state=features[k]\n",
    "    innput=Variable(torch.FloatTensor(state))\n",
    "    output=mnet(innput).detach().numpy()\n",
    "    prediction=np.append(prediction,output[j])\n",
    "    real=np.append(real,labels[k][j])\n",
    "prediction[:20]"
   ]
  },
  {
   "cell_type": "code",
   "execution_count": 58,
   "metadata": {
    "scrolled": true
   },
   "outputs": [
    {
     "data": {
      "text/plain": [
       "[<matplotlib.lines.Line2D at 0x24810753f60>]"
      ]
     },
     "execution_count": 58,
     "metadata": {},
     "output_type": "execute_result"
    },
    {
     "data": {
      "image/png": "[encoded data removed]",
      "text/plain": [
       "<Figure size 432x288 with 1 Axes>"
      ]
     },
     "metadata": {},
     "output_type": "display_data"
    }
   ],
   "source": [
    "plt.plot(prediction)\n",
    "plt.plot(real)"
   ]
  },
  {
   "cell_type": "code",
   "execution_count": null,
   "metadata": {},
   "outputs": [],
   "source": []
  }
 ],
 "metadata": {
  "kernelspec": {
   "display_name": "Python 3",
   "language": "python",
   "name": "python3"
  },
  "language_info": {
   "codemirror_mode": {
    "name": "ipython",
    "version": 3
   },
   "file_extension": ".py",
   "mimetype": "text/x-python",
   "name": "python",
   "nbconvert_exporter": "python",
   "pygments_lexer": "ipython3",
   "version": "3.6.5"
  }
 },
 "nbformat": 4,
 "nbformat_minor": 2
}
