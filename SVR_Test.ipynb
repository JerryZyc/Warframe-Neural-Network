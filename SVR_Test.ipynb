{
 "cells": [
  {
   "cell_type": "code",
   "execution_count": 1,
   "metadata": {},
   "outputs": [],
   "source": [
    "from datascience import Table\n",
    "%matplotlib inline\n",
    "import matplotlib.pyplot as plt\n",
    "import numpy as np\n",
    "plt.style.use('fivethirtyeight')\n",
    "import json\n",
    "import pandas as pd"
   ]
  },
  {
   "cell_type": "code",
   "execution_count": 2,
   "metadata": {},
   "outputs": [
    {
     "data": {
      "text/html": [
       "<table border=\"1\" class=\"dataframe\">\n",
       "    <thead>\n",
       "        <tr>\n",
       "            <th>time</th> <th>volume</th> <th>min_price</th> <th>max_price</th> <th>avg_price</th> <th>median_price</th> <th>warframe</th> <th>available </th> <th>ducats</th> <th>release</th> <th>hot</th> <th>date</th> <th>weekend</th> <th>realsed_year</th>\n",
       "        </tr>\n",
       "    </thead>\n",
       "    <tbody>\n",
       "        <tr>\n",
       "            <td>2019/1/1 </td> <td>69    </td> <td>56       </td> <td>80       </td> <td>68       </td> <td>70          </td> <td>Banshee </td> <td>4         </td> <td>260   </td> <td>0      </td> <td>1   </td> <td>1   </td> <td>0      </td> <td>1.9         </td>\n",
       "        </tr>\n",
       "        <tr>\n",
       "            <td>2019/1/2 </td> <td>74    </td> <td>65       </td> <td>80       </td> <td>72.5     </td> <td>74          </td> <td>Banshee </td> <td>4         </td> <td>260   </td> <td>0      </td> <td>1   </td> <td>2   </td> <td>0      </td> <td>1.9         </td>\n",
       "        </tr>\n",
       "        <tr>\n",
       "            <td>2019/1/3 </td> <td>61    </td> <td>61       </td> <td>85       </td> <td>73       </td> <td>75          </td> <td>Banshee </td> <td>4         </td> <td>260   </td> <td>0      </td> <td>1   </td> <td>3   </td> <td>0      </td> <td>1.9         </td>\n",
       "        </tr>\n",
       "        <tr>\n",
       "            <td>2019/1/4 </td> <td>50    </td> <td>61       </td> <td>85       </td> <td>73       </td> <td>75          </td> <td>Banshee </td> <td>4         </td> <td>260   </td> <td>0      </td> <td>1   </td> <td>4   </td> <td>0      </td> <td>1.9         </td>\n",
       "        </tr>\n",
       "        <tr>\n",
       "            <td>2019/1/5 </td> <td>55    </td> <td>65       </td> <td>80       </td> <td>72.5     </td> <td>73.5        </td> <td>Banshee </td> <td>4         </td> <td>260   </td> <td>0      </td> <td>1   </td> <td>5   </td> <td>1      </td> <td>1.9         </td>\n",
       "        </tr>\n",
       "        <tr>\n",
       "            <td>2019/1/6 </td> <td>72    </td> <td>60       </td> <td>80       </td> <td>70       </td> <td>70          </td> <td>Banshee </td> <td>4         </td> <td>260   </td> <td>0      </td> <td>1   </td> <td>6   </td> <td>1      </td> <td>1.9         </td>\n",
       "        </tr>\n",
       "        <tr>\n",
       "            <td>2019/1/7 </td> <td>56    </td> <td>65       </td> <td>85       </td> <td>75       </td> <td>75          </td> <td>Banshee </td> <td>4         </td> <td>260   </td> <td>0      </td> <td>1   </td> <td>7   </td> <td>0      </td> <td>1.9         </td>\n",
       "        </tr>\n",
       "        <tr>\n",
       "            <td>2019/1/8 </td> <td>59    </td> <td>63       </td> <td>85       </td> <td>74       </td> <td>75          </td> <td>Banshee </td> <td>4         </td> <td>260   </td> <td>0      </td> <td>1   </td> <td>8   </td> <td>0      </td> <td>1.9         </td>\n",
       "        </tr>\n",
       "        <tr>\n",
       "            <td>2019/1/9 </td> <td>37    </td> <td>72       </td> <td>80       </td> <td>76       </td> <td>79.5        </td> <td>Banshee </td> <td>4         </td> <td>260   </td> <td>0      </td> <td>1   </td> <td>9   </td> <td>0      </td> <td>1.9         </td>\n",
       "        </tr>\n",
       "        <tr>\n",
       "            <td>2019/1/10</td> <td>38    </td> <td>62       </td> <td>84       </td> <td>73       </td> <td>75          </td> <td>Banshee </td> <td>4         </td> <td>260   </td> <td>0      </td> <td>1   </td> <td>10  </td> <td>0      </td> <td>1.9         </td>\n",
       "        </tr>\n",
       "    </tbody>\n",
       "</table>\n",
       "<p>... (1325 rows omitted)</p>"
      ],
      "text/plain": [
       "time      | volume | min_price | max_price | avg_price | median_price | warframe | available  | ducats | release | hot  | date | weekend | realsed_year\n",
       "2019/1/1  | 69     | 56        | 80        | 68        | 70           | Banshee  | 4          | 260    | 0       | 1    | 1    | 0       | 1.9\n",
       "2019/1/2  | 74     | 65        | 80        | 72.5      | 74           | Banshee  | 4          | 260    | 0       | 1    | 2    | 0       | 1.9\n",
       "2019/1/3  | 61     | 61        | 85        | 73        | 75           | Banshee  | 4          | 260    | 0       | 1    | 3    | 0       | 1.9\n",
       "2019/1/4  | 50     | 61        | 85        | 73        | 75           | Banshee  | 4          | 260    | 0       | 1    | 4    | 0       | 1.9\n",
       "2019/1/5  | 55     | 65        | 80        | 72.5      | 73.5         | Banshee  | 4          | 260    | 0       | 1    | 5    | 1       | 1.9\n",
       "2019/1/6  | 72     | 60        | 80        | 70        | 70           | Banshee  | 4          | 260    | 0       | 1    | 6    | 1       | 1.9\n",
       "2019/1/7  | 56     | 65        | 85        | 75        | 75           | Banshee  | 4          | 260    | 0       | 1    | 7    | 0       | 1.9\n",
       "2019/1/8  | 59     | 63        | 85        | 74        | 75           | Banshee  | 4          | 260    | 0       | 1    | 8    | 0       | 1.9\n",
       "2019/1/9  | 37     | 72        | 80        | 76        | 79.5         | Banshee  | 4          | 260    | 0       | 1    | 9    | 0       | 1.9\n",
       "2019/1/10 | 38     | 62        | 84        | 73        | 75           | Banshee  | 4          | 260    | 0       | 1    | 10   | 0       | 1.9\n",
       "... (1325 rows omitted)"
      ]
     },
     "execution_count": 2,
     "metadata": {},
     "output_type": "execute_result"
    }
   ],
   "source": [
    "training = pd.read_csv('warframe_data.csv')\n",
    "Train=Table.from_df(training)\n",
    "Train"
   ]
  },
  {
   "cell_type": "code",
   "execution_count": 3,
   "metadata": {},
   "outputs": [
    {
     "data": {
      "text/html": [
       "<table border=\"1\" class=\"dataframe\">\n",
       "    <thead>\n",
       "        <tr>\n",
       "            <th>time</th> <th>volume</th> <th>min_price</th> <th>max_price</th> <th>avg_price</th> <th>median_price</th> <th>warframe</th> <th>available </th> <th>ducats</th> <th>release</th> <th>hot</th> <th>date</th> <th>weekend</th> <th>released_year</th>\n",
       "        </tr>\n",
       "    </thead>\n",
       "    <tbody>\n",
       "        <tr>\n",
       "            <td>2019/1/19</td> <td>50    </td> <td>159      </td> <td>180      </td> <td>169.5    </td> <td>170         </td> <td>Ash     </td> <td>2         </td> <td>170   </td> <td>0      </td> <td>1   </td> <td>19  </td> <td>1      </td> <td>3.1          </td>\n",
       "        </tr>\n",
       "        <tr>\n",
       "            <td>2019/1/20</td> <td>40    </td> <td>162      </td> <td>185      </td> <td>173.5    </td> <td>175         </td> <td>Ash     </td> <td>2         </td> <td>170   </td> <td>0      </td> <td>1   </td> <td>20  </td> <td>1      </td> <td>3.1          </td>\n",
       "        </tr>\n",
       "        <tr>\n",
       "            <td>2019/1/21</td> <td>42    </td> <td>170      </td> <td>190      </td> <td>180      </td> <td>180         </td> <td>Ash     </td> <td>2         </td> <td>170   </td> <td>0      </td> <td>1   </td> <td>21  </td> <td>0      </td> <td>3.1          </td>\n",
       "        </tr>\n",
       "        <tr>\n",
       "            <td>2019/1/22</td> <td>40    </td> <td>160      </td> <td>189      </td> <td>174.5    </td> <td>175         </td> <td>Ash     </td> <td>2         </td> <td>170   </td> <td>0      </td> <td>1   </td> <td>22  </td> <td>0      </td> <td>3.1          </td>\n",
       "        </tr>\n",
       "        <tr>\n",
       "            <td>2019/1/23</td> <td>48    </td> <td>169      </td> <td>185      </td> <td>177      </td> <td>175         </td> <td>Ash     </td> <td>2         </td> <td>170   </td> <td>0      </td> <td>1   </td> <td>23  </td> <td>0      </td> <td>3.1          </td>\n",
       "        </tr>\n",
       "        <tr>\n",
       "            <td>2019/1/24</td> <td>42    </td> <td>170      </td> <td>190      </td> <td>180      </td> <td>180         </td> <td>Ash     </td> <td>2         </td> <td>170   </td> <td>0      </td> <td>1   </td> <td>24  </td> <td>0      </td> <td>3.1          </td>\n",
       "        </tr>\n",
       "        <tr>\n",
       "            <td>2019/1/25</td> <td>32    </td> <td>169      </td> <td>190      </td> <td>179.5    </td> <td>180         </td> <td>Ash     </td> <td>2         </td> <td>170   </td> <td>0      </td> <td>1   </td> <td>25  </td> <td>0      </td> <td>3.1          </td>\n",
       "        </tr>\n",
       "        <tr>\n",
       "            <td>2019/1/26</td> <td>57    </td> <td>158      </td> <td>180      </td> <td>169      </td> <td>170         </td> <td>Ash     </td> <td>2         </td> <td>170   </td> <td>0      </td> <td>1   </td> <td>26  </td> <td>1      </td> <td>3.1          </td>\n",
       "        </tr>\n",
       "        <tr>\n",
       "            <td>2019/1/27</td> <td>56    </td> <td>160      </td> <td>190      </td> <td>175      </td> <td>175         </td> <td>Ash     </td> <td>2         </td> <td>170   </td> <td>0      </td> <td>1   </td> <td>27  </td> <td>1      </td> <td>3.1          </td>\n",
       "        </tr>\n",
       "        <tr>\n",
       "            <td>2019/1/28</td> <td>27    </td> <td>165      </td> <td>189      </td> <td>177      </td> <td>178         </td> <td>Ash     </td> <td>2         </td> <td>170   </td> <td>0      </td> <td>1   </td> <td>28  </td> <td>0      </td> <td>3.1          </td>\n",
       "        </tr>\n",
       "    </tbody>\n",
       "</table>\n",
       "<p>... (524 rows omitted)</p>"
      ],
      "text/plain": [
       "time      | volume | min_price | max_price | avg_price | median_price | warframe | available  | ducats | release | hot  | date | weekend | released_year\n",
       "2019/1/19 | 50     | 159       | 180       | 169.5     | 170          | Ash      | 2          | 170    | 0       | 1    | 19   | 1       | 3.1\n",
       "2019/1/20 | 40     | 162       | 185       | 173.5     | 175          | Ash      | 2          | 170    | 0       | 1    | 20   | 1       | 3.1\n",
       "2019/1/21 | 42     | 170       | 190       | 180       | 180          | Ash      | 2          | 170    | 0       | 1    | 21   | 0       | 3.1\n",
       "2019/1/22 | 40     | 160       | 189       | 174.5     | 175          | Ash      | 2          | 170    | 0       | 1    | 22   | 0       | 3.1\n",
       "2019/1/23 | 48     | 169       | 185       | 177       | 175          | Ash      | 2          | 170    | 0       | 1    | 23   | 0       | 3.1\n",
       "2019/1/24 | 42     | 170       | 190       | 180       | 180          | Ash      | 2          | 170    | 0       | 1    | 24   | 0       | 3.1\n",
       "2019/1/25 | 32     | 169       | 190       | 179.5     | 180          | Ash      | 2          | 170    | 0       | 1    | 25   | 0       | 3.1\n",
       "2019/1/26 | 57     | 158       | 180       | 169       | 170          | Ash      | 2          | 170    | 0       | 1    | 26   | 1       | 3.1\n",
       "2019/1/27 | 56     | 160       | 190       | 175       | 175          | Ash      | 2          | 170    | 0       | 1    | 27   | 1       | 3.1\n",
       "2019/1/28 | 27     | 165       | 189       | 177       | 178          | Ash      | 2          | 170    | 0       | 1    | 28   | 0       | 3.1\n",
       "... (524 rows omitted)"
      ]
     },
     "execution_count": 3,
     "metadata": {},
     "output_type": "execute_result"
    }
   ],
   "source": [
    "testing = pd.read_csv('Warframe_Test.csv')\n",
    "Test=Table.from_df(testing)\n",
    "Test"
   ]
  },
  {
   "cell_type": "code",
   "execution_count": 4,
   "metadata": {},
   "outputs": [
    {
     "data": {
      "text/plain": [
       "[[4, 2.6, 0, 1, 0.01, 0, 1.9],\n",
       " [4, 2.6, 0, 1, 0.02, 0, 1.9],\n",
       " [4, 2.6, 0, 1, 0.03, 0, 1.9],\n",
       " [4, 2.6, 0, 1, 0.04, 0, 1.9],\n",
       " [4, 2.6, 0, 1, 0.05, 1, 1.9]]"
      ]
     },
     "execution_count": 4,
     "metadata": {},
     "output_type": "execute_result"
    }
   ],
   "source": [
    "features=[]\n",
    "for i in range(1335):\n",
    "    feature1=[]\n",
    "    feature1.append(Train.row(i)[7])\n",
    "    feature1.append(Train.row(i)[8]/100)\n",
    "    feature1.append(Train.row(i)[9])\n",
    "    feature1.append(Train.row(i)[10])\n",
    "    feature1.append(Train.row(i)[11]/100)\n",
    "    feature1.append(Train.row(i)[12])\n",
    "    feature1.append(Train.row(i)[13])\n",
    "    features.append(feature1)\n",
    "features[:5]"
   ]
  },
  {
   "cell_type": "code",
   "execution_count": 13,
   "metadata": {},
   "outputs": [
    {
     "data": {
      "text/plain": [
       "[[68.0], [72.5], [73.0], [73.0], [72.5]]"
      ]
     },
     "execution_count": 13,
     "metadata": {},
     "output_type": "execute_result"
    }
   ],
   "source": [
    "labels=[]\n",
    "for i in range(1335):\n",
    "    label=[]\n",
    "    #label.append(Train.row(i)[1])\n",
    "    label.append(Train.row(i)[4])\n",
    "    labels.append(label)\n",
    "labels[:5]"
   ]
  },
  {
   "cell_type": "code",
   "execution_count": 6,
   "metadata": {},
   "outputs": [],
   "source": [
    "from sklearn.svm import LinearSVR\n",
    "from sklearn.datasets import make_regression"
   ]
  },
  {
   "cell_type": "code",
   "execution_count": 14,
   "metadata": {},
   "outputs": [
    {
     "data": {
      "text/plain": [
       "LinearSVR(C=1.0, dual=True, epsilon=0.0, fit_intercept=True,\n",
       "     intercept_scaling=1.0, loss='epsilon_insensitive', max_iter=1000,\n",
       "     random_state=0, tol=1e-05, verbose=0)"
      ]
     },
     "execution_count": 14,
     "metadata": {},
     "output_type": "execute_result"
    }
   ],
   "source": [
    "regr = LinearSVR(random_state=0, tol=1e-5)\n",
    "features, labels = make_regression(n_features=7, random_state=0)\n",
    "regr.fit(features, labels)"
   ]
  },
  {
   "cell_type": "code",
   "execution_count": 15,
   "metadata": {},
   "outputs": [
    {
     "name": "stdout",
     "output_type": "stream",
     "text": [
      "[15.01623891 18.87934993 41.8424198  32.39945294 15.36437429 23.58517821\n",
      " 26.50178652]\n"
     ]
    }
   ],
   "source": [
    "print(regr.coef_)"
   ]
  },
  {
   "cell_type": "code",
   "execution_count": 16,
   "metadata": {},
   "outputs": [
    {
     "data": {
      "text/plain": [
       "[[2, 1.7, 0, 1, 0.19, 1, 3.1],\n",
       " [2, 1.7, 0, 1, 0.2, 1, 3.1],\n",
       " [2, 1.7, 0, 1, 0.21, 0, 3.1],\n",
       " [2, 1.7, 0, 1, 0.22, 0, 3.1],\n",
       " [2, 1.7, 0, 1, 0.23, 0, 3.1]]"
      ]
     },
     "execution_count": 16,
     "metadata": {},
     "output_type": "execute_result"
    }
   ],
   "source": [
    "features_test=[]\n",
    "for i in range(534):\n",
    "    feature1=[]\n",
    "    feature1.append(Test.row(i)[7])\n",
    "    feature1.append(Test.row(i)[8]/100)\n",
    "    feature1.append(Test.row(i)[9])\n",
    "    feature1.append(Test.row(i)[10])\n",
    "    feature1.append(Test.row(i)[11]/100)\n",
    "    feature1.append(Test.row(i)[12])\n",
    "    feature1.append(Test.row(i)[13])\n",
    "    features_test.append(feature1)\n",
    "features_test[:5]"
   ]
  },
  {
   "cell_type": "code",
   "execution_count": 17,
   "metadata": {},
   "outputs": [
    {
     "data": {
      "text/plain": [
       "180.0"
      ]
     },
     "execution_count": 17,
     "metadata": {},
     "output_type": "execute_result"
    }
   ],
   "source": [
    "labels_test=[]\n",
    "for i in range(534):\n",
    "    label=[]\n",
    "    #label.append(Test.row(i)[1])\n",
    "    #label.append(Test.row(i)[2])\n",
    "    #label.append(Test.row(i)[3])\n",
    "    label.append(Test.row(i)[4])\n",
    "    labels_test.append(label)\n",
    "labels_test[5][0]"
   ]
  },
  {
   "cell_type": "code",
   "execution_count": 18,
   "metadata": {},
   "outputs": [],
   "source": [
    "prediction=regr.predict(features_test)"
   ]
  },
  {
   "cell_type": "code",
   "execution_count": 21,
   "metadata": {},
   "outputs": [
    {
     "data": {
      "image/png": "[encoded data removed]",
      "text/plain": [
       "<Figure size 432x288 with 1 Axes>"
      ]
     },
     "metadata": {},
     "output_type": "display_data"
    }
   ],
   "source": [
    "plt.title('SVR_Frost')\n",
    "plt.xlabel('Date')\n",
    "plt.ylabel('Avg_Price')\n",
    "\n",
    "plt.plot(prediction[:500],'g',linewidth = '2',label='prediction')\n",
    "plt.xlim(90,179)\n",
    "plt.plot(labels_test[:500],'r',linewidth = '2',label='real')\n",
    "plt.ylim(0,400)\n",
    "\n",
    "plt.legend()\n",
    "plt.grid(True,linestyle = \"-\",color = 'gray' ,linewidth = '0.15',axis='both')\n",
    "plt.show()"
   ]
  },
  {
   "cell_type": "code",
   "execution_count": null,
   "metadata": {},
   "outputs": [],
   "source": []
  }
 ],
 "metadata": {
  "kernelspec": {
   "display_name": "Python 3",
   "language": "python",
   "name": "python3"
  },
  "language_info": {
   "codemirror_mode": {
    "name": "ipython",
    "version": 3
   },
   "file_extension": ".py",
   "mimetype": "text/x-python",
   "name": "python",
   "nbconvert_exporter": "python",
   "pygments_lexer": "ipython3",
   "version": "3.6.5"
  }
 },
 "nbformat": 4,
 "nbformat_minor": 2
}
