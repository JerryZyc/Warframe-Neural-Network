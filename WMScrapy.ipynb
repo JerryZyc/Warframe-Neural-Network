{
 "cells": [
  {
   "cell_type": "code",
   "execution_count": 9,
   "metadata": {},
   "outputs": [
    {
     "name": "stderr",
     "output_type": "stream",
     "text": [
      "E:\\Anaconda\\lib\\site-packages\\ipykernel_launcher.py:7: UserWarning: \n",
      "This call to matplotlib.use() has no effect because the backend has already\n",
      "been chosen; matplotlib.use() must be called *before* pylab, matplotlib.pyplot,\n",
      "or matplotlib.backends is imported for the first time.\n",
      "\n",
      "The backend was *originally* set to 'module://ipykernel.pylab.backend_inline' by the following code:\n",
      "  File \"E:\\Anaconda\\lib\\runpy.py\", line 193, in _run_module_as_main\n",
      "    \"__main__\", mod_spec)\n",
      "  File \"E:\\Anaconda\\lib\\runpy.py\", line 85, in _run_code\n",
      "    exec(code, run_globals)\n",
      "  File \"E:\\Anaconda\\lib\\site-packages\\ipykernel_launcher.py\", line 16, in <module>\n",
      "    app.launch_new_instance()\n",
      "  File \"E:\\Anaconda\\lib\\site-packages\\traitlets\\config\\application.py\", line 658, in launch_instance\n",
      "    app.start()\n",
      "  File \"E:\\Anaconda\\lib\\site-packages\\ipykernel\\kernelapp.py\", line 486, in start\n",
      "    self.io_loop.start()\n",
      "  File \"E:\\Anaconda\\lib\\site-packages\\tornado\\platform\\asyncio.py\", line 127, in start\n",
      "    self.asyncio_loop.run_forever()\n",
      "  File \"E:\\Anaconda\\lib\\asyncio\\base_events.py\", line 422, in run_forever\n",
      "    self._run_once()\n",
      "  File \"E:\\Anaconda\\lib\\asyncio\\base_events.py\", line 1432, in _run_once\n",
      "    handle._run()\n",
      "  File \"E:\\Anaconda\\lib\\asyncio\\events.py\", line 145, in _run\n",
      "    self._callback(*self._args)\n",
      "  File \"E:\\Anaconda\\lib\\site-packages\\tornado\\platform\\asyncio.py\", line 117, in _handle_events\n",
      "    handler_func(fileobj, events)\n",
      "  File \"E:\\Anaconda\\lib\\site-packages\\tornado\\stack_context.py\", line 276, in null_wrapper\n",
      "    return fn(*args, **kwargs)\n",
      "  File \"E:\\Anaconda\\lib\\site-packages\\zmq\\eventloop\\zmqstream.py\", line 450, in _handle_events\n",
      "    self._handle_recv()\n",
      "  File \"E:\\Anaconda\\lib\\site-packages\\zmq\\eventloop\\zmqstream.py\", line 480, in _handle_recv\n",
      "    self._run_callback(callback, msg)\n",
      "  File \"E:\\Anaconda\\lib\\site-packages\\zmq\\eventloop\\zmqstream.py\", line 432, in _run_callback\n",
      "    callback(*args, **kwargs)\n",
      "  File \"E:\\Anaconda\\lib\\site-packages\\tornado\\stack_context.py\", line 276, in null_wrapper\n",
      "    return fn(*args, **kwargs)\n",
      "  File \"E:\\Anaconda\\lib\\site-packages\\ipykernel\\kernelbase.py\", line 283, in dispatcher\n",
      "    return self.dispatch_shell(stream, msg)\n",
      "  File \"E:\\Anaconda\\lib\\site-packages\\ipykernel\\kernelbase.py\", line 233, in dispatch_shell\n",
      "    handler(stream, idents, msg)\n",
      "  File \"E:\\Anaconda\\lib\\site-packages\\ipykernel\\kernelbase.py\", line 399, in execute_request\n",
      "    user_expressions, allow_stdin)\n",
      "  File \"E:\\Anaconda\\lib\\site-packages\\ipykernel\\ipkernel.py\", line 208, in do_execute\n",
      "    res = shell.run_cell(code, store_history=store_history, silent=silent)\n",
      "  File \"E:\\Anaconda\\lib\\site-packages\\ipykernel\\zmqshell.py\", line 537, in run_cell\n",
      "    return super(ZMQInteractiveShell, self).run_cell(*args, **kwargs)\n",
      "  File \"E:\\Anaconda\\lib\\site-packages\\IPython\\core\\interactiveshell.py\", line 2662, in run_cell\n",
      "    raw_cell, store_history, silent, shell_futures)\n",
      "  File \"E:\\Anaconda\\lib\\site-packages\\IPython\\core\\interactiveshell.py\", line 2785, in _run_cell\n",
      "    interactivity=interactivity, compiler=compiler, result=result)\n",
      "  File \"E:\\Anaconda\\lib\\site-packages\\IPython\\core\\interactiveshell.py\", line 2903, in run_ast_nodes\n",
      "    if self.run_code(code, result):\n",
      "  File \"E:\\Anaconda\\lib\\site-packages\\IPython\\core\\interactiveshell.py\", line 2963, in run_code\n",
      "    exec(code_obj, self.user_global_ns, self.user_ns)\n",
      "  File \"<ipython-input-1-bb1ac9e00083>\", line 9, in <module>\n",
      "    get_ipython().run_line_magic('matplotlib', 'inline')\n",
      "  File \"E:\\Anaconda\\lib\\site-packages\\IPython\\core\\interactiveshell.py\", line 2131, in run_line_magic\n",
      "    result = fn(*args,**kwargs)\n",
      "  File \"<decorator-gen-108>\", line 2, in matplotlib\n",
      "  File \"E:\\Anaconda\\lib\\site-packages\\IPython\\core\\magic.py\", line 187, in <lambda>\n",
      "    call = lambda f, *a, **k: f(*a, **k)\n",
      "  File \"E:\\Anaconda\\lib\\site-packages\\IPython\\core\\magics\\pylab.py\", line 99, in matplotlib\n",
      "    gui, backend = self.shell.enable_matplotlib(args.gui)\n",
      "  File \"E:\\Anaconda\\lib\\site-packages\\IPython\\core\\interactiveshell.py\", line 3051, in enable_matplotlib\n",
      "    pt.activate_matplotlib(backend)\n",
      "  File \"E:\\Anaconda\\lib\\site-packages\\IPython\\core\\pylabtools.py\", line 311, in activate_matplotlib\n",
      "    matplotlib.pyplot.switch_backend(backend)\n",
      "  File \"E:\\Anaconda\\lib\\site-packages\\matplotlib\\pyplot.py\", line 233, in switch_backend\n",
      "    _backend_mod, new_figure_manager, draw_if_interactive, _show = pylab_setup()\n",
      "  File \"E:\\Anaconda\\lib\\site-packages\\matplotlib\\backends\\__init__.py\", line 62, in pylab_setup\n",
      "    [backend_name], 0)\n",
      "  File \"E:\\Anaconda\\lib\\site-packages\\ipykernel\\pylab\\backend_inline.py\", line 165, in <module>\n",
      "    _enable_matplotlib_integration()\n",
      "  File \"E:\\Anaconda\\lib\\site-packages\\ipykernel\\pylab\\backend_inline.py\", line 155, in _enable_matplotlib_integration\n",
      "    activate_matplotlib(backend)\n",
      "  File \"E:\\Anaconda\\lib\\site-packages\\IPython\\core\\pylabtools.py\", line 311, in activate_matplotlib\n",
      "    matplotlib.pyplot.switch_backend(backend)\n",
      "  File \"E:\\Anaconda\\lib\\site-packages\\matplotlib\\pyplot.py\", line 231, in switch_backend\n",
      "    matplotlib.use(newbackend, warn=False, force=True)\n",
      "  File \"E:\\Anaconda\\lib\\site-packages\\matplotlib\\__init__.py\", line 1410, in use\n",
      "    reload(sys.modules['matplotlib.backends'])\n",
      "  File \"E:\\Anaconda\\lib\\importlib\\__init__.py\", line 166, in reload\n",
      "    _bootstrap._exec(spec, module)\n",
      "  File \"E:\\Anaconda\\lib\\site-packages\\matplotlib\\backends\\__init__.py\", line 16, in <module>\n",
      "    line for line in traceback.format_stack()\n",
      "\n",
      "\n",
      "  import sys\n"
     ]
    }
   ],
   "source": [
    "from bs4 import BeautifulSoup\n",
    "from lxml import html\n",
    "from lxml import etree\n",
    "import xml\n",
    "import requests\n",
    "import matplotlib\n",
    "matplotlib.use('Agg')\n",
    "from datascience import Table\n",
    "%matplotlib inline\n",
    "import matplotlib.pyplot as plt\n",
    "import numpy as np\n",
    "plt.style.use('fivethirtyeight')\n",
    "import json\n",
    "import pandas as pd\n",
    "from pandas.io.json import json_normalize"
   ]
  },
  {
   "cell_type": "code",
   "execution_count": 38,
   "metadata": {},
   "outputs": [
    {
     "name": "stdout",
     "output_type": "stream",
     "text": [
      "{\"payload\": {\"statistics_closed\": {\"48hours\": [{\"datetime\": \"2019-04-16T07:00:00.000+00:00\", \"volume\n"
     ]
    }
   ],
   "source": [
    "url = \"https://warframe.market/items/vauban_prime_set/statistics\"\n",
    "r = requests.get(url).text\n",
    "s=etree.HTML(r)\n",
    "trade=s[4].text\n",
    "print(trade[0:100])"
   ]
  },
  {
   "cell_type": "code",
   "execution_count": 39,
   "metadata": {},
   "outputs": [
    {
     "name": "stdout",
     "output_type": "stream",
     "text": [
      "[{'datetime': '2019-01-19T00:00:00.000+00:00', 'volume': 36, 'min_price': 190, 'max_price': 215, 'open_price': 209, 'closed_price': 193, 'avg_price': 202.5, 'wa_price': 197.639, 'median': 199.0, 'moving_avg': 194.7, 'donch_top': 215, 'donch_bot': 164, 'id': '5c43ba893ae3e8002394b31a'}, {'datetime': '2019-01-20T00:00:00.000+00:00', 'volume': 22, 'min_price': 190, 'max_price': 205, 'open_price': 190, 'closed_price': 190, 'avg_price': 197.5, 'wa_price': 198.545, 'median': 200.0, 'moving_avg': 195.2, 'donch_top': 215, 'donch_bot': 164, 'id': '5c450c083ae3e80023966364'}]\n"
     ]
    }
   ],
   "source": [
    "data=json.loads(trade)\n",
    "data1=data['payload']['statistics_closed']['90days']\n",
    "print(data1[0:2])"
   ]
  },
  {
   "cell_type": "code",
   "execution_count": 40,
   "metadata": {},
   "outputs": [],
   "source": [
    "time=np.array([])\n",
    "volume=np.array([])\n",
    "min_price=np.array([])\n",
    "max_price=np.array([])\n",
    "avg_price=np.array([])\n",
    "median_price=np.array([])\n",
    "warframe=np.array([])"
   ]
  },
  {
   "cell_type": "code",
   "execution_count": 41,
   "metadata": {},
   "outputs": [
    {
     "name": "stdout",
     "output_type": "stream",
     "text": [
      "['2019-01-19' '2019-01-20' '2019-01-21' '2019-01-22' '2019-01-23'\n",
      " '2019-01-24' '2019-01-25' '2019-01-26' '2019-01-27' '2019-01-28']\n"
     ]
    }
   ],
   "source": [
    "for i in range (0,89):\n",
    "    time=np.append(time,data1[i]['datetime'][0:10])\n",
    "    volume=np.append(volume,data1[i]['volume'])\n",
    "    min_price=np.append(min_price,data1[i]['min_price'])\n",
    "    max_price=np.append(max_price,data1[i]['max_price'])\n",
    "    avg_price=np.append(avg_price,data1[i]['avg_price'])\n",
    "    median_price=np.append(median_price,data1[i]['median'])\n",
    "    warframe=np.append(warframe,'Vauban')\n",
    "print(time[0:10])"
   ]
  },
  {
   "cell_type": "code",
   "execution_count": 42,
   "metadata": {
    "scrolled": true
   },
   "outputs": [
    {
     "data": {
      "text/html": [
       "<table border=\"1\" class=\"dataframe\">\n",
       "    <thead>\n",
       "        <tr>\n",
       "            <th>time</th> <th>volume</th> <th>min_price</th> <th>max_price</th> <th>avg_price</th> <th>median_price</th> <th>warframe</th>\n",
       "        </tr>\n",
       "    </thead>\n",
       "    <tbody>\n",
       "        <tr>\n",
       "            <td>2019-01-19</td> <td>36    </td> <td>190      </td> <td>215      </td> <td>202.5    </td> <td>199         </td> <td>Vauban  </td>\n",
       "        </tr>\n",
       "        <tr>\n",
       "            <td>2019-01-20</td> <td>22    </td> <td>190      </td> <td>205      </td> <td>197.5    </td> <td>200         </td> <td>Vauban  </td>\n",
       "        </tr>\n",
       "        <tr>\n",
       "            <td>2019-01-21</td> <td>28    </td> <td>180      </td> <td>220      </td> <td>200      </td> <td>200         </td> <td>Vauban  </td>\n",
       "        </tr>\n",
       "        <tr>\n",
       "            <td>2019-01-22</td> <td>38    </td> <td>160      </td> <td>230      </td> <td>195      </td> <td>195         </td> <td>Vauban  </td>\n",
       "        </tr>\n",
       "        <tr>\n",
       "            <td>2019-01-23</td> <td>18    </td> <td>176      </td> <td>215      </td> <td>195.5    </td> <td>200         </td> <td>Vauban  </td>\n",
       "        </tr>\n",
       "        <tr>\n",
       "            <td>2019-01-24</td> <td>18    </td> <td>185      </td> <td>200      </td> <td>192.5    </td> <td>195         </td> <td>Vauban  </td>\n",
       "        </tr>\n",
       "        <tr>\n",
       "            <td>2019-01-25</td> <td>31    </td> <td>179      </td> <td>210      </td> <td>194.5    </td> <td>190         </td> <td>Vauban  </td>\n",
       "        </tr>\n",
       "        <tr>\n",
       "            <td>2019-01-26</td> <td>21    </td> <td>180      </td> <td>200      </td> <td>190      </td> <td>189.5       </td> <td>Vauban  </td>\n",
       "        </tr>\n",
       "        <tr>\n",
       "            <td>2019-01-27</td> <td>26    </td> <td>175      </td> <td>195      </td> <td>185      </td> <td>185         </td> <td>Vauban  </td>\n",
       "        </tr>\n",
       "        <tr>\n",
       "            <td>2019-01-28</td> <td>20    </td> <td>180      </td> <td>199      </td> <td>189.5    </td> <td>187.5       </td> <td>Vauban  </td>\n",
       "        </tr>\n",
       "    </tbody>\n",
       "</table>\n",
       "<p>... (79 rows omitted)</p>"
      ],
      "text/plain": [
       "time       | volume | min_price | max_price | avg_price | median_price | warframe\n",
       "2019-01-19 | 36     | 190       | 215       | 202.5     | 199          | Vauban\n",
       "2019-01-20 | 22     | 190       | 205       | 197.5     | 200          | Vauban\n",
       "2019-01-21 | 28     | 180       | 220       | 200       | 200          | Vauban\n",
       "2019-01-22 | 38     | 160       | 230       | 195       | 195          | Vauban\n",
       "2019-01-23 | 18     | 176       | 215       | 195.5     | 200          | Vauban\n",
       "2019-01-24 | 18     | 185       | 200       | 192.5     | 195          | Vauban\n",
       "2019-01-25 | 31     | 179       | 210       | 194.5     | 190          | Vauban\n",
       "2019-01-26 | 21     | 180       | 200       | 190       | 189.5        | Vauban\n",
       "2019-01-27 | 26     | 175       | 195       | 185       | 185          | Vauban\n",
       "2019-01-28 | 20     | 180       | 199       | 189.5     | 187.5        | Vauban\n",
       "... (79 rows omitted)"
      ]
     },
     "execution_count": 42,
     "metadata": {},
     "output_type": "execute_result"
    }
   ],
   "source": [
    "trading=Table().with_columns('time',time,'volume',volume,'min_price',min_price,'max_price',max_price,'avg_price',avg_price,'median_price',median_price,'warframe',warframe)\n",
    "trading"
   ]
  },
  {
   "cell_type": "code",
   "execution_count": 43,
   "metadata": {},
   "outputs": [
    {
     "data": {
      "text/plain": [
       "[<matplotlib.lines.Line2D at 0x20173e904a8>]"
      ]
     },
     "execution_count": 43,
     "metadata": {},
     "output_type": "execute_result"
    },
    {
     "data": {
      "image/png": "[encoded data removed]",
      "text/plain": [
       "<Figure size 432x288 with 1 Axes>"
      ]
     },
     "metadata": {},
     "output_type": "display_data"
    }
   ],
   "source": [
    "plt.plot(trading[2])"
   ]
  },
  {
   "cell_type": "code",
   "execution_count": 44,
   "metadata": {},
   "outputs": [],
   "source": [
    "trading.to_csv('Vauban.csv')"
   ]
  },
  {
   "cell_type": "code",
   "execution_count": null,
   "metadata": {},
   "outputs": [],
   "source": []
  }
 ],
 "metadata": {
  "kernelspec": {
   "display_name": "Python 3",
   "language": "python",
   "name": "python3"
  },
  "language_info": {
   "codemirror_mode": {
    "name": "ipython",
    "version": 3
   },
   "file_extension": ".py",
   "mimetype": "text/x-python",
   "name": "python",
   "nbconvert_exporter": "python",
   "pygments_lexer": "ipython3",
   "version": "3.6.5"
  }
 },
 "nbformat": 4,
 "nbformat_minor": 2
}
