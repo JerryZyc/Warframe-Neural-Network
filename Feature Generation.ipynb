{
 "cells": [
  {
   "cell_type": "code",
   "execution_count": 2,
   "metadata": {},
   "outputs": [],
   "source": [
    "from datascience import *\n",
    "import csv\n",
    "import pandas as pd\n",
    "import numpy as np\n",
    "import gspread\n",
    "from bs4 import BeautifulSoup\n",
    "from lxml import html\n",
    "from lxml import etree\n",
    "import xml\n",
    "import requests\n",
    "import matplotlib\n",
    "matplotlib.use('Agg')\n",
    "from datascience import Table\n",
    "%matplotlib inline\n",
    "import matplotlib.pyplot as plt\n",
    "import numpy as np\n",
    "plt.style.use('fivethirtyeight')\n",
    "import json\n",
    "import pandas as pd\n",
    "from pandas.io.json import json_normalize\n",
    "from datetime import datetime, timedelta\n",
    "import time"
   ]
  },
  {
   "cell_type": "code",
   "execution_count": 27,
   "metadata": {},
   "outputs": [
    {
     "data": {
      "text/html": [
       "<table border=\"1\" class=\"dataframe\">\n",
       "    <thead>\n",
       "        <tr>\n",
       "            <th>time</th> <th>volume</th> <th>min_price</th> <th>max_price</th> <th>avg_price</th> <th>median_price</th> <th>warframe</th> <th>available </th> <th>ducats</th> <th>release</th> <th>hot</th> <th>date</th>\n",
       "        </tr>\n",
       "    </thead>\n",
       "    <tbody>\n",
       "        <tr>\n",
       "            <td>2019/1/19</td> <td>50    </td> <td>260      </td> <td>300      </td> <td>280      </td> <td>281         </td> <td>Frost   </td> <td>1         </td> <td>175   </td> <td>0      </td> <td>2   </td> <td>19  </td>\n",
       "        </tr>\n",
       "        <tr>\n",
       "            <td>2019/1/20</td> <td>53    </td> <td>256      </td> <td>300      </td> <td>278      </td> <td>280         </td> <td>Frost   </td> <td>1         </td> <td>175   </td> <td>0      </td> <td>2   </td> <td>20  </td>\n",
       "        </tr>\n",
       "        <tr>\n",
       "            <td>2019/1/21</td> <td>27    </td> <td>272      </td> <td>294      </td> <td>283      </td> <td>286.5       </td> <td>Frost   </td> <td>1         </td> <td>175   </td> <td>0      </td> <td>2   </td> <td>21  </td>\n",
       "        </tr>\n",
       "        <tr>\n",
       "            <td>2019/1/22</td> <td>48    </td> <td>140      </td> <td>300      </td> <td>220      </td> <td>255         </td> <td>Frost   </td> <td>1         </td> <td>175   </td> <td>0      </td> <td>2   </td> <td>22  </td>\n",
       "        </tr>\n",
       "        <tr>\n",
       "            <td>2019/1/23</td> <td>91    </td> <td>120      </td> <td>220      </td> <td>170      </td> <td>160         </td> <td>Frost   </td> <td>2         </td> <td>175   </td> <td>1      </td> <td>2   </td> <td>23  </td>\n",
       "        </tr>\n",
       "        <tr>\n",
       "            <td>2019/1/24</td> <td>52    </td> <td>129      </td> <td>200      </td> <td>164.5    </td> <td>170         </td> <td>Frost   </td> <td>2         </td> <td>175   </td> <td>1      </td> <td>2   </td> <td>24  </td>\n",
       "        </tr>\n",
       "        <tr>\n",
       "            <td>2019/1/25</td> <td>29    </td> <td>148      </td> <td>200      </td> <td>174      </td> <td>174         </td> <td>Frost   </td> <td>2         </td> <td>175   </td> <td>1      </td> <td>2   </td> <td>25  </td>\n",
       "        </tr>\n",
       "        <tr>\n",
       "            <td>2019/1/26</td> <td>22    </td> <td>145      </td> <td>176      </td> <td>160.5    </td> <td>160         </td> <td>Frost   </td> <td>2         </td> <td>175   </td> <td>1      </td> <td>2   </td> <td>26  </td>\n",
       "        </tr>\n",
       "        <tr>\n",
       "            <td>2019/1/27</td> <td>29    </td> <td>150      </td> <td>200      </td> <td>175      </td> <td>179         </td> <td>Frost   </td> <td>2         </td> <td>175   </td> <td>1      </td> <td>2   </td> <td>27  </td>\n",
       "        </tr>\n",
       "        <tr>\n",
       "            <td>2019/1/28</td> <td>36    </td> <td>150      </td> <td>220      </td> <td>185      </td> <td>176         </td> <td>Frost   </td> <td>2         </td> <td>175   </td> <td>1      </td> <td>2   </td> <td>28  </td>\n",
       "        </tr>\n",
       "    </tbody>\n",
       "</table>\n",
       "<p>... (79 rows omitted)</p>"
      ],
      "text/plain": [
       "time      | volume | min_price | max_price | avg_price | median_price | warframe | available  | ducats | release | hot  | date\n",
       "2019/1/19 | 50     | 260       | 300       | 280       | 281          | Frost    | 1          | 175    | 0       | 2    | 19\n",
       "2019/1/20 | 53     | 256       | 300       | 278       | 280          | Frost    | 1          | 175    | 0       | 2    | 20\n",
       "2019/1/21 | 27     | 272       | 294       | 283       | 286.5        | Frost    | 1          | 175    | 0       | 2    | 21\n",
       "2019/1/22 | 48     | 140       | 300       | 220       | 255          | Frost    | 1          | 175    | 0       | 2    | 22\n",
       "2019/1/23 | 91     | 120       | 220       | 170       | 160          | Frost    | 2          | 175    | 1       | 2    | 23\n",
       "2019/1/24 | 52     | 129       | 200       | 164.5     | 170          | Frost    | 2          | 175    | 1       | 2    | 24\n",
       "2019/1/25 | 29     | 148       | 200       | 174       | 174          | Frost    | 2          | 175    | 1       | 2    | 25\n",
       "2019/1/26 | 22     | 145       | 176       | 160.5     | 160          | Frost    | 2          | 175    | 1       | 2    | 26\n",
       "2019/1/27 | 29     | 150       | 200       | 175       | 179          | Frost    | 2          | 175    | 1       | 2    | 27\n",
       "2019/1/28 | 36     | 150       | 220       | 185       | 176          | Frost    | 2          | 175    | 1       | 2    | 28\n",
       "... (79 rows omitted)"
      ]
     },
     "execution_count": 27,
     "metadata": {},
     "output_type": "execute_result"
    }
   ],
   "source": [
    "training = pd.read_csv('Frost.csv')\n",
    "Train=Table.from_df(training)\n",
    "Train"
   ]
  },
  {
   "cell_type": "code",
   "execution_count": 28,
   "metadata": {},
   "outputs": [
    {
     "data": {
      "text/plain": [
       "array(['2019/1/19', '2019/1/20', '2019/1/21', '2019/1/22', '2019/1/23',\n",
       "       '2019/1/24', '2019/1/25', '2019/1/26', '2019/1/27', '2019/1/28'],\n",
       "      dtype='<U9')"
      ]
     },
     "execution_count": 28,
     "metadata": {},
     "output_type": "execute_result"
    }
   ],
   "source": [
    "Time=Train[0]\n",
    "Time[:10]"
   ]
  },
  {
   "cell_type": "code",
   "execution_count": 29,
   "metadata": {},
   "outputs": [
    {
     "data": {
      "text/plain": [
       "numpy.str_"
      ]
     },
     "execution_count": 29,
     "metadata": {},
     "output_type": "execute_result"
    }
   ],
   "source": [
    "type(Time[0])"
   ]
  },
  {
   "cell_type": "code",
   "execution_count": 30,
   "metadata": {},
   "outputs": [
    {
     "data": {
      "text/plain": [
       "datetime.datetime(2019, 4, 17, 0, 0)"
      ]
     },
     "execution_count": 30,
     "metadata": {},
     "output_type": "execute_result"
    }
   ],
   "source": [
    "date1=datetime.strptime(Time[88],\"%Y/%m/%d\")\n",
    "date1"
   ]
  },
  {
   "cell_type": "code",
   "execution_count": 31,
   "metadata": {},
   "outputs": [],
   "source": [
    "size=np.size(Train.column(1))"
   ]
  },
  {
   "cell_type": "code",
   "execution_count": 32,
   "metadata": {},
   "outputs": [
    {
     "data": {
      "text/plain": [
       "array([1., 1., 0., 0., 0., 0., 0., 1., 1., 0., 0., 0., 0., 0., 1., 1., 0.,\n",
       "       0., 0., 0., 0., 1., 1., 0., 0., 0., 0., 0., 1., 1.])"
      ]
     },
     "execution_count": 32,
     "metadata": {},
     "output_type": "execute_result"
    }
   ],
   "source": [
    "weekend=np.array([])\n",
    "for i in range(size):\n",
    "    date1=datetime.strptime(Time[i],\"%Y/%m/%d\")\n",
    "    if date1.weekday() <5:\n",
    "        weekend=np.append(weekend,0)\n",
    "    elif date1.weekday()>=5:\n",
    "        weekend=np.append(weekend,1)\n",
    "        \n",
    "weekend[:30]"
   ]
  },
  {
   "cell_type": "code",
   "execution_count": 33,
   "metadata": {},
   "outputs": [
    {
     "data": {
      "text/html": [
       "<table border=\"1\" class=\"dataframe\">\n",
       "    <thead>\n",
       "        <tr>\n",
       "            <th>time</th> <th>volume</th> <th>min_price</th> <th>max_price</th> <th>avg_price</th> <th>median_price</th> <th>warframe</th> <th>available </th> <th>ducats</th> <th>release</th> <th>hot</th> <th>date</th> <th>weekend</th>\n",
       "        </tr>\n",
       "    </thead>\n",
       "    <tbody>\n",
       "        <tr>\n",
       "            <td>2019/1/19</td> <td>50    </td> <td>260      </td> <td>300      </td> <td>280      </td> <td>281         </td> <td>Frost   </td> <td>1         </td> <td>175   </td> <td>0      </td> <td>2   </td> <td>19  </td> <td>1      </td>\n",
       "        </tr>\n",
       "        <tr>\n",
       "            <td>2019/1/20</td> <td>53    </td> <td>256      </td> <td>300      </td> <td>278      </td> <td>280         </td> <td>Frost   </td> <td>1         </td> <td>175   </td> <td>0      </td> <td>2   </td> <td>20  </td> <td>1      </td>\n",
       "        </tr>\n",
       "        <tr>\n",
       "            <td>2019/1/21</td> <td>27    </td> <td>272      </td> <td>294      </td> <td>283      </td> <td>286.5       </td> <td>Frost   </td> <td>1         </td> <td>175   </td> <td>0      </td> <td>2   </td> <td>21  </td> <td>0      </td>\n",
       "        </tr>\n",
       "        <tr>\n",
       "            <td>2019/1/22</td> <td>48    </td> <td>140      </td> <td>300      </td> <td>220      </td> <td>255         </td> <td>Frost   </td> <td>1         </td> <td>175   </td> <td>0      </td> <td>2   </td> <td>22  </td> <td>0      </td>\n",
       "        </tr>\n",
       "        <tr>\n",
       "            <td>2019/1/23</td> <td>91    </td> <td>120      </td> <td>220      </td> <td>170      </td> <td>160         </td> <td>Frost   </td> <td>2         </td> <td>175   </td> <td>1      </td> <td>2   </td> <td>23  </td> <td>0      </td>\n",
       "        </tr>\n",
       "        <tr>\n",
       "            <td>2019/1/24</td> <td>52    </td> <td>129      </td> <td>200      </td> <td>164.5    </td> <td>170         </td> <td>Frost   </td> <td>2         </td> <td>175   </td> <td>1      </td> <td>2   </td> <td>24  </td> <td>0      </td>\n",
       "        </tr>\n",
       "        <tr>\n",
       "            <td>2019/1/25</td> <td>29    </td> <td>148      </td> <td>200      </td> <td>174      </td> <td>174         </td> <td>Frost   </td> <td>2         </td> <td>175   </td> <td>1      </td> <td>2   </td> <td>25  </td> <td>0      </td>\n",
       "        </tr>\n",
       "        <tr>\n",
       "            <td>2019/1/26</td> <td>22    </td> <td>145      </td> <td>176      </td> <td>160.5    </td> <td>160         </td> <td>Frost   </td> <td>2         </td> <td>175   </td> <td>1      </td> <td>2   </td> <td>26  </td> <td>1      </td>\n",
       "        </tr>\n",
       "        <tr>\n",
       "            <td>2019/1/27</td> <td>29    </td> <td>150      </td> <td>200      </td> <td>175      </td> <td>179         </td> <td>Frost   </td> <td>2         </td> <td>175   </td> <td>1      </td> <td>2   </td> <td>27  </td> <td>1      </td>\n",
       "        </tr>\n",
       "        <tr>\n",
       "            <td>2019/1/28</td> <td>36    </td> <td>150      </td> <td>220      </td> <td>185      </td> <td>176         </td> <td>Frost   </td> <td>2         </td> <td>175   </td> <td>1      </td> <td>2   </td> <td>28  </td> <td>0      </td>\n",
       "        </tr>\n",
       "    </tbody>\n",
       "</table>\n",
       "<p>... (79 rows omitted)</p>"
      ],
      "text/plain": [
       "time      | volume | min_price | max_price | avg_price | median_price | warframe | available  | ducats | release | hot  | date | weekend\n",
       "2019/1/19 | 50     | 260       | 300       | 280       | 281          | Frost    | 1          | 175    | 0       | 2    | 19   | 1\n",
       "2019/1/20 | 53     | 256       | 300       | 278       | 280          | Frost    | 1          | 175    | 0       | 2    | 20   | 1\n",
       "2019/1/21 | 27     | 272       | 294       | 283       | 286.5        | Frost    | 1          | 175    | 0       | 2    | 21   | 0\n",
       "2019/1/22 | 48     | 140       | 300       | 220       | 255          | Frost    | 1          | 175    | 0       | 2    | 22   | 0\n",
       "2019/1/23 | 91     | 120       | 220       | 170       | 160          | Frost    | 2          | 175    | 1       | 2    | 23   | 0\n",
       "2019/1/24 | 52     | 129       | 200       | 164.5     | 170          | Frost    | 2          | 175    | 1       | 2    | 24   | 0\n",
       "2019/1/25 | 29     | 148       | 200       | 174       | 174          | Frost    | 2          | 175    | 1       | 2    | 25   | 0\n",
       "2019/1/26 | 22     | 145       | 176       | 160.5     | 160          | Frost    | 2          | 175    | 1       | 2    | 26   | 1\n",
       "2019/1/27 | 29     | 150       | 200       | 175       | 179          | Frost    | 2          | 175    | 1       | 2    | 27   | 1\n",
       "2019/1/28 | 36     | 150       | 220       | 185       | 176          | Frost    | 2          | 175    | 1       | 2    | 28   | 0\n",
       "... (79 rows omitted)"
      ]
     },
     "execution_count": 33,
     "metadata": {},
     "output_type": "execute_result"
    }
   ],
   "source": [
    "train=Train.with_column('weekend',weekend)\n",
    "train"
   ]
  },
  {
   "cell_type": "code",
   "execution_count": 34,
   "metadata": {},
   "outputs": [],
   "source": [
    "train.to_csv('Frost_data.csv')"
   ]
  },
  {
   "cell_type": "code",
   "execution_count": 36,
   "metadata": {},
   "outputs": [
    {
     "data": {
      "text/html": [
       "<table border=\"1\" class=\"dataframe\">\n",
       "    <thead>\n",
       "        <tr>\n",
       "            <th>time</th> <th>volume</th> <th>min_price</th> <th>max_price</th> <th>avg_price</th> <th>median_price</th> <th>warframe</th> <th>available </th> <th>ducats</th> <th>release</th> <th>hot</th> <th>date</th> <th>weekend</th>\n",
       "        </tr>\n",
       "    </thead>\n",
       "    <tbody>\n",
       "        <tr>\n",
       "            <td>2019/1/1</td> <td>69    </td> <td>56       </td> <td>80       </td> <td>68       </td> <td>70          </td> <td>Banshee </td> <td>4         </td> <td>260   </td> <td>0      </td> <td>1   </td> <td>1   </td> <td>0      </td>\n",
       "        </tr>\n",
       "        <tr>\n",
       "            <td>2019/1/1</td> <td>126   </td> <td>114      </td> <td>135      </td> <td>124.5    </td> <td>125         </td> <td>Chroma  </td> <td>3         </td> <td>260   </td> <td>1      </td> <td>3   </td> <td>1   </td> <td>0      </td>\n",
       "        </tr>\n",
       "        <tr>\n",
       "            <td>2019/1/1</td> <td>38    </td> <td>230      </td> <td>250      </td> <td>240      </td> <td>240         </td> <td>Ember   </td> <td>2         </td> <td>175   </td> <td>0      </td> <td>1   </td> <td>1   </td> <td>0      </td>\n",
       "        </tr>\n",
       "        <tr>\n",
       "            <td>2019/1/1</td> <td>92    </td> <td>50       </td> <td>65       </td> <td>57.5     </td> <td>58          </td> <td>Hydroid </td> <td>5         </td> <td>205   </td> <td>1      </td> <td>3   </td> <td>1   </td> <td>0      </td>\n",
       "        </tr>\n",
       "        <tr>\n",
       "            <td>2019/1/1</td> <td>83    </td> <td>85       </td> <td>100      </td> <td>92.5     </td> <td>95          </td> <td>Limbo   </td> <td>4         </td> <td>260   </td> <td>1      </td> <td>2   </td> <td>1   </td> <td>0      </td>\n",
       "        </tr>\n",
       "        <tr>\n",
       "            <td>2019/1/1</td> <td>71    </td> <td>340      </td> <td>380      </td> <td>360      </td> <td>360         </td> <td>Loki    </td> <td>1         </td> <td>175   </td> <td>0      </td> <td>3   </td> <td>1   </td> <td>0      </td>\n",
       "        </tr>\n",
       "        <tr>\n",
       "            <td>2019/1/1</td> <td>280   </td> <td>189      </td> <td>210      </td> <td>199.5    </td> <td>200         </td> <td>Mesa    </td> <td>3         </td> <td>260   </td> <td>1      </td> <td>3   </td> <td>1   </td> <td>0      </td>\n",
       "        </tr>\n",
       "        <tr>\n",
       "            <td>2019/1/1</td> <td>65    </td> <td>38       </td> <td>42       </td> <td>40       </td> <td>40          </td> <td>Mirage  </td> <td>5         </td> <td>175   </td> <td>1      </td> <td>1   </td> <td>1   </td> <td>0      </td>\n",
       "        </tr>\n",
       "        <tr>\n",
       "            <td>2019/1/1</td> <td>67    </td> <td>198      </td> <td>200      </td> <td>199      </td> <td>200         </td> <td>Nekros  </td> <td>2         </td> <td>260   </td> <td>0      </td> <td>3   </td> <td>1   </td> <td>0      </td>\n",
       "        </tr>\n",
       "        <tr>\n",
       "            <td>2019/1/1</td> <td>44    </td> <td>50       </td> <td>69       </td> <td>59.5     </td> <td>59          </td> <td>Oberon  </td> <td>5         </td> <td>260   </td> <td>1      </td> <td>2   </td> <td>1   </td> <td>0      </td>\n",
       "        </tr>\n",
       "        <tr>\n",
       "            <td>2019/1/1</td> <td>60    </td> <td>294      </td> <td>300      </td> <td>297      </td> <td>299         </td> <td>Rhino   </td> <td>1         </td> <td>225   </td> <td>0      </td> <td>3   </td> <td>1   </td> <td>0      </td>\n",
       "        </tr>\n",
       "        <tr>\n",
       "            <td>2019/1/1</td> <td>106   </td> <td>250      </td> <td>290      </td> <td>270      </td> <td>270         </td> <td>Saryn   </td> <td>2         </td> <td>225   </td> <td>0      </td> <td>3   </td> <td>1   </td> <td>0      </td>\n",
       "        </tr>\n",
       "        <tr>\n",
       "            <td>2019/1/1</td> <td>59    </td> <td>75       </td> <td>98       </td> <td>86.5     </td> <td>85          </td> <td>Trinity </td> <td>4         </td> <td>130   </td> <td>0      </td> <td>3   </td> <td>1   </td> <td>0      </td>\n",
       "        </tr>\n",
       "        <tr>\n",
       "            <td>2019/1/1</td> <td>56    </td> <td>95       </td> <td>119      </td> <td>107      </td> <td>105         </td> <td>Valkyr  </td> <td>3         </td> <td>260   </td> <td>0      </td> <td>1   </td> <td>1   </td> <td>0      </td>\n",
       "        </tr>\n",
       "        <tr>\n",
       "            <td>2019/1/1</td> <td>89    </td> <td>256      </td> <td>300      </td> <td>278      </td> <td>289         </td> <td>Volt    </td> <td>1         </td> <td>180   </td> <td>0      </td> <td>3   </td> <td>1   </td> <td>0      </td>\n",
       "        </tr>\n",
       "    </tbody>\n",
       "</table>"
      ],
      "text/plain": [
       "<IPython.core.display.HTML object>"
      ]
     },
     "metadata": {},
     "output_type": "display_data"
    }
   ],
   "source": [
    "example=train.where(11,1)\n",
    "example.show()"
   ]
  },
  {
   "cell_type": "code",
   "execution_count": 37,
   "metadata": {},
   "outputs": [],
   "source": [
    "example.to_csv('first_day.csv')"
   ]
  },
  {
   "cell_type": "code",
   "execution_count": null,
   "metadata": {},
   "outputs": [],
   "source": []
  }
 ],
 "metadata": {
  "kernelspec": {
   "display_name": "Python 3",
   "language": "python",
   "name": "python3"
  },
  "language_info": {
   "codemirror_mode": {
    "name": "ipython",
    "version": 3
   },
   "file_extension": ".py",
   "mimetype": "text/x-python",
   "name": "python",
   "nbconvert_exporter": "python",
   "pygments_lexer": "ipython3",
   "version": "3.6.5"
  }
 },
 "nbformat": 4,
 "nbformat_minor": 2
}
